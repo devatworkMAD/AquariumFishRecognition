{
 "cells": [
  {
   "cell_type": "code",
   "execution_count": 31,
   "id": "initial_id",
   "metadata": {
    "collapsed": true,
    "ExecuteTime": {
     "end_time": "2025-01-02T10:25:27.859228100Z",
     "start_time": "2025-01-02T10:25:27.818729300Z"
    }
   },
   "outputs": [],
   "source": [
    "import numpy as np\n",
    "from PIL import Image\n",
    "\n",
    "import torch\n",
    "import torch.nn as nn\n",
    "import torch.nn.functional as F\n",
    "import torch.optim as optim\n",
    "\n",
    "import torchvision\n",
    "import torchvision.transforms as transforms"
   ]
  },
  {
   "cell_type": "code",
   "execution_count": 32,
   "outputs": [],
   "source": [
    "transform = transforms.Compose([\n",
    "    transforms.ToTensor(),\n",
    "    transforms.Normalize((0.5, 0.5, 0.5), (0.5, 0.5, 0.5))\n",
    "])"
   ],
   "metadata": {
    "collapsed": false,
    "ExecuteTime": {
     "end_time": "2025-01-02T10:25:27.888225Z",
     "start_time": "2025-01-02T10:25:27.830730700Z"
    }
   },
   "id": "9aafded3226d6cc3"
  },
  {
   "cell_type": "code",
   "execution_count": 33,
   "outputs": [
    {
     "name": "stdout",
     "output_type": "stream",
     "text": [
      "Files already downloaded and verified\n",
      "Files already downloaded and verified\n"
     ]
    }
   ],
   "source": [
    "train_data = torchvision.datasets.CIFAR10(root='./data', train=True, transform=transform, download=True)\n",
    "test_data = torchvision.datasets.CIFAR10(root='./data', train=False, transform=transform, download=True)\n",
    "\n",
    "train_loader = torch.utils.data.DataLoader(train_data, batch_size=32, shuffle=True, num_workers=2)\n",
    "test_loader = torch.utils.data.DataLoader(test_data, batch_size=32, shuffle=True, num_workers=2)"
   ],
   "metadata": {
    "collapsed": false,
    "ExecuteTime": {
     "end_time": "2025-01-02T10:25:29.339237600Z",
     "start_time": "2025-01-02T10:25:27.845226400Z"
    }
   },
   "id": "edda19bfa7432d63"
  },
  {
   "cell_type": "code",
   "execution_count": 34,
   "outputs": [],
   "source": [
    "image, label = train_data[0]"
   ],
   "metadata": {
    "collapsed": false,
    "ExecuteTime": {
     "end_time": "2025-01-02T10:25:29.351234400Z",
     "start_time": "2025-01-02T10:25:29.335235600Z"
    }
   },
   "id": "ffd9e3460b76726"
  },
  {
   "cell_type": "code",
   "execution_count": 35,
   "outputs": [
    {
     "data": {
      "text/plain": "torch.Size([3, 32, 32])"
     },
     "execution_count": 35,
     "metadata": {},
     "output_type": "execute_result"
    }
   ],
   "source": [
    "image.size()"
   ],
   "metadata": {
    "collapsed": false,
    "ExecuteTime": {
     "end_time": "2025-01-02T10:25:29.411233300Z",
     "start_time": "2025-01-02T10:25:29.354237300Z"
    }
   },
   "id": "9f7cd80b22a8fe80"
  },
  {
   "cell_type": "code",
   "execution_count": 36,
   "outputs": [],
   "source": [
    "class_names = ['plane', 'car', 'bird', 'cat', 'deer', 'dog', 'frog', 'horse', 'ship', 'truck']"
   ],
   "metadata": {
    "collapsed": false,
    "ExecuteTime": {
     "end_time": "2025-01-02T10:25:29.425249200Z",
     "start_time": "2025-01-02T10:25:29.368235700Z"
    }
   },
   "id": "7421cbd8f0deee6a"
  },
  {
   "cell_type": "code",
   "execution_count": 37,
   "outputs": [],
   "source": [
    "class NueralNet(nn.Module):\n",
    "    def __init__(self):\n",
    "        super().__init__()\n",
    "        \n",
    "        self.conv1 = nn.Conv2d(3, 12, 5) # (12, 28, 28)\n",
    "        self.pool = nn.MaxPool2d(2,2) # (12, 14, 14)\n",
    "        self.conv2 = nn.Conv2d(12, 24, 5) # (24, 10, 10) -> (24, 5, 5) -> Flatten (24 * 5 * 5)\n",
    "        self.fc1 = nn.Linear(24 * 5 * 5, 120)\n",
    "        self.fc2 = nn.Linear(120, 84)\n",
    "        self.fc3 = nn.Linear(84, 10)\n",
    "    \n",
    "    def forward(self, x):\n",
    "        x = self.pool(F.relu(self.conv1(x)))\n",
    "        x = self.pool(F.relu(self.conv2(x)))\n",
    "        x = torch.flatten(x, 1)\n",
    "        x = F.relu(self.fc1(x))\n",
    "        x = F.relu(self.fc2(x))\n",
    "        x = self.fc3(x)\n",
    "        return x"
   ],
   "metadata": {
    "collapsed": false,
    "ExecuteTime": {
     "end_time": "2025-01-02T10:25:29.425249200Z",
     "start_time": "2025-01-02T10:25:29.383237100Z"
    }
   },
   "id": "6e36ca8d7a24fa14"
  },
  {
   "cell_type": "code",
   "execution_count": 38,
   "outputs": [],
   "source": [
    "net = NueralNet()\n",
    "loss_function = nn.CrossEntropyLoss()\n",
    "optimizer = optim.SGD(net.parameters(), lr=0.001, momentum=0.9)"
   ],
   "metadata": {
    "collapsed": false,
    "ExecuteTime": {
     "end_time": "2025-01-02T10:25:29.426247300Z",
     "start_time": "2025-01-02T10:25:29.398261200Z"
    }
   },
   "id": "5cfc22168dc4faed"
  },
  {
   "cell_type": "code",
   "execution_count": 39,
   "outputs": [
    {
     "name": "stdout",
     "output_type": "stream",
     "text": [
      "Training epoch 0...\n",
      "Loss: 2.2345\n",
      "Training epoch 1...\n",
      "Loss: 1.7642\n",
      "Training epoch 2...\n",
      "Loss: 1.5364\n",
      "Training epoch 3...\n",
      "Loss: 1.4176\n",
      "Training epoch 4...\n",
      "Loss: 1.3301\n",
      "Training epoch 5...\n",
      "Loss: 1.2474\n",
      "Training epoch 6...\n",
      "Loss: 1.1785\n",
      "Training epoch 7...\n",
      "Loss: 1.1215\n",
      "Training epoch 8...\n",
      "Loss: 1.0657\n",
      "Training epoch 9...\n",
      "Loss: 1.0172\n",
      "Training epoch 10...\n",
      "Loss: 0.9751\n",
      "Training epoch 11...\n",
      "Loss: 0.9353\n",
      "Training epoch 12...\n",
      "Loss: 0.8971\n",
      "Training epoch 13...\n",
      "Loss: 0.8622\n",
      "Training epoch 14...\n",
      "Loss: 0.8293\n",
      "Training epoch 15...\n",
      "Loss: 0.7999\n",
      "Training epoch 16...\n",
      "Loss: 0.7690\n",
      "Training epoch 17...\n",
      "Loss: 0.7428\n",
      "Training epoch 18...\n",
      "Loss: 0.7162\n",
      "Training epoch 19...\n",
      "Loss: 0.6909\n",
      "Training epoch 20...\n",
      "Loss: 0.6639\n",
      "Training epoch 21...\n",
      "Loss: 0.6442\n",
      "Training epoch 22...\n",
      "Loss: 0.6165\n",
      "Training epoch 23...\n",
      "Loss: 0.5946\n",
      "Training epoch 24...\n",
      "Loss: 0.5677\n",
      "Training epoch 25...\n",
      "Loss: 0.5493\n",
      "Training epoch 26...\n",
      "Loss: 0.5313\n",
      "Training epoch 27...\n",
      "Loss: 0.5067\n",
      "Training epoch 28...\n",
      "Loss: 0.4889\n",
      "Training epoch 29...\n",
      "Loss: 0.4688\n"
     ]
    }
   ],
   "source": [
    "for epoch in range(30):\n",
    "    print(f'Training epoch {epoch}...')\n",
    "    \n",
    "    running_loss = 0.0\n",
    "    \n",
    "    for i, data in enumerate(train_loader):\n",
    "        inputs, labels = data\n",
    "        \n",
    "        optimizer.zero_grad()\n",
    "        \n",
    "        outputs = net(inputs)\n",
    "        \n",
    "        loss = loss_function(outputs, labels)\n",
    "        loss.backward()\n",
    "        optimizer.step()\n",
    "        \n",
    "        running_loss += loss.item()\n",
    "        \n",
    "    print(f'Loss: {running_loss / len(train_loader):.4f}')    "
   ],
   "metadata": {
    "collapsed": false,
    "ExecuteTime": {
     "end_time": "2025-01-02T10:34:18.556818200Z",
     "start_time": "2025-01-02T10:25:29.416247300Z"
    }
   },
   "id": "9091e84e3d902aaa"
  },
  {
   "cell_type": "code",
   "execution_count": 40,
   "outputs": [],
   "source": [
    "torch.save(net.state_dict(), 'trained_net.pth')"
   ],
   "metadata": {
    "collapsed": false,
    "ExecuteTime": {
     "end_time": "2025-01-02T10:34:18.589818900Z",
     "start_time": "2025-01-02T10:34:18.560819400Z"
    }
   },
   "id": "de3e397225c9510"
  },
  {
   "cell_type": "code",
   "execution_count": 41,
   "outputs": [
    {
     "name": "stderr",
     "output_type": "stream",
     "text": [
      "C:\\Users\\Deich\\AppData\\Local\\Temp\\ipykernel_12400\\753964174.py:2: FutureWarning: You are using `torch.load` with `weights_only=False` (the current default value), which uses the default pickle module implicitly. It is possible to construct malicious pickle data which will execute arbitrary code during unpickling (See https://github.com/pytorch/pytorch/blob/main/SECURITY.md#untrusted-models for more details). In a future release, the default value for `weights_only` will be flipped to `True`. This limits the functions that could be executed during unpickling. Arbitrary objects will no longer be allowed to be loaded via this mode unless they are explicitly allowlisted by the user via `torch.serialization.add_safe_globals`. We recommend you start setting `weights_only=True` for any use case where you don't have full control of the loaded file. Please open an issue on GitHub for any issues related to this experimental feature.\n",
      "  net.load_state_dict(torch.load('trained_net.pth'))\n"
     ]
    },
    {
     "data": {
      "text/plain": "<All keys matched successfully>"
     },
     "execution_count": 41,
     "metadata": {},
     "output_type": "execute_result"
    }
   ],
   "source": [
    "net = NueralNet()\n",
    "net.load_state_dict(torch.load('trained_net.pth'))"
   ],
   "metadata": {
    "collapsed": false,
    "ExecuteTime": {
     "end_time": "2025-01-02T10:34:18.618814500Z",
     "start_time": "2025-01-02T10:34:18.573818600Z"
    }
   },
   "id": "14c01549adbd1988"
  },
  {
   "cell_type": "code",
   "execution_count": 43,
   "outputs": [
    {
     "name": "stdout",
     "output_type": "stream",
     "text": [
      "Accuracy: 69.01%\n"
     ]
    }
   ],
   "source": [
    "correct = 0\n",
    "total = 0\n",
    "\n",
    "net.eval()\n",
    "\n",
    "with torch.no_grad():\n",
    "    for data in test_loader:\n",
    "        images, labels = data\n",
    "        outputs = net(images)\n",
    "        _, predicted = torch.max(outputs, 1)\n",
    "        total += labels.size(0)\n",
    "        correct += (predicted == labels).sum().item()\n",
    "        \n",
    "accuracy = 100 * correct / total\n",
    "\n",
    "print(f'Accuracy: {accuracy}%')"
   ],
   "metadata": {
    "collapsed": false,
    "ExecuteTime": {
     "end_time": "2025-01-02T10:44:11.957380300Z",
     "start_time": "2025-01-02T10:44:03.741384700Z"
    }
   },
   "id": "1159aef5cddbf7de"
  },
  {
   "cell_type": "code",
   "execution_count": 47,
   "outputs": [
    {
     "name": "stdout",
     "output_type": "stream",
     "text": [
      "Prediction: horse\n",
      "Prediction: plane\n"
     ]
    }
   ],
   "source": [
    "new_transform = transforms.Compose([\n",
    "    transforms.Resize((32,32)),\n",
    "    transforms.ToTensor(),\n",
    "    transforms.Normalize((0.5, 0.5, 0.5), (0.5, 0.5, 0.5))\n",
    "])\n",
    "\n",
    "def load_image(image_path):\n",
    "    image = Image.open(image_path)\n",
    "    image = new_transform(image)\n",
    "    image = image.unsqueeze(0)\n",
    "    return image\n",
    "\n",
    "image_paths = ['example/example1.png', 'example/example2.png']\n",
    "images = [load_image(img) for img in image_paths]\n",
    "\n",
    "net. eval()\n",
    "\n",
    "with torch.no_grad():\n",
    "    for image in images:\n",
    "        output = net(image)\n",
    "        _, predicted = torch.max(output, 1)\n",
    "        print(f'Prediction: {class_names[predicted.item()]}')"
   ],
   "metadata": {
    "collapsed": false,
    "ExecuteTime": {
     "end_time": "2025-01-02T10:56:26.464894700Z",
     "start_time": "2025-01-02T10:56:26.442892700Z"
    }
   },
   "id": "8742cc431ec26d85"
  },
  {
   "cell_type": "code",
   "execution_count": null,
   "outputs": [],
   "source": [],
   "metadata": {
    "collapsed": false
   },
   "id": "2e241118ba4e4197"
  }
 ],
 "metadata": {
  "kernelspec": {
   "display_name": "Python 3",
   "language": "python",
   "name": "python3"
  },
  "language_info": {
   "codemirror_mode": {
    "name": "ipython",
    "version": 2
   },
   "file_extension": ".py",
   "mimetype": "text/x-python",
   "name": "python",
   "nbconvert_exporter": "python",
   "pygments_lexer": "ipython2",
   "version": "2.7.6"
  }
 },
 "nbformat": 4,
 "nbformat_minor": 5
}
